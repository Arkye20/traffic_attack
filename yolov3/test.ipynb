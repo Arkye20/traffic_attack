{
 "cells": [
  {
   "cell_type": "code",
   "execution_count": 34,
   "metadata": {},
   "outputs": [],
   "source": [
    "import cv2\n",
    "mask_path = './outputs/000000027755/gradcam/mask.jpg'\n",
    "img_path = './data/images/000000027755.jpg'\n",
    "mask = cv2.imread(mask_path)\n",
    "img = cv2.imread(img_path)\n",
    "\n"
   ]
  },
  {
   "cell_type": "code",
   "execution_count": 31,
   "metadata": {},
   "outputs": [],
   "source": [
    "img = img[:, :, ::-1]\n",
    "mask = mask[:, :, ::-1]\n",
    "\n",
    "mask = mask / 255\n",
    "img = img / 255"
   ]
  },
  {
   "cell_type": "code",
   "execution_count": 32,
   "metadata": {},
   "outputs": [],
   "source": []
  },
  {
   "cell_type": "code",
   "execution_count": 33,
   "metadata": {},
   "outputs": [
    {
     "data": {
      "text/plain": [
       "<matplotlib.image.AxesImage at 0x16b94b0a0>"
      ]
     },
     "execution_count": 33,
     "metadata": {},
     "output_type": "execute_result"
    },
    {
     "data": {
      "image/png": "[encoded data removed]",
      "text/plain": [
       "<Figure size 432x288 with 1 Axes>"
      ]
     },
     "metadata": {
      "needs_background": "light"
     },
     "output_type": "display_data"
    }
   ],
   "source": [
    "import matplotlib.pyplot as plt  # plt 用于显示图片\n",
    "%matplotlib inline\n",
    "import numpy as np\n",
    "# 展示图片\n",
    "add = np.multiply(mask,img)\n",
    "plt.imshow(add)"
   ]
  }
 ],
 "metadata": {
  "interpreter": {
   "hash": "e4b95a98a430812fca2672e3b492a02ef3b9df8a8facc6c34757fe13875e67df"
  },
  "kernelspec": {
   "display_name": "Python 3.9.12 ('base')",
   "language": "python",
   "name": "python3"
  },
  "language_info": {
   "codemirror_mode": {
    "name": "ipython",
    "version": 3
   },
   "file_extension": ".py",
   "mimetype": "text/x-python",
   "name": "python",
   "nbconvert_exporter": "python",
   "pygments_lexer": "ipython3",
   "version": "3.7.13"
  },
  "orig_nbformat": 4
 },
 "nbformat": 4,
 "nbformat_minor": 2
}
